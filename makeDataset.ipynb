{
 "cells": [
  {
   "cell_type": "code",
   "execution_count": null,
   "metadata": {},
   "outputs": [],
   "source": [
    "\n",
    "import os\n",
    "import librosa\n",
    "import numpy as np\n",
    "\n",
    "# .wav 파일이 저장된 폴더\n",
    "folder_path = '/path/to/your/wav/files'\n",
    "\n",
    "# .wav 파일 목록 가져오기\n",
    "file_list = os.listdir(folder_path)\n",
    "\n",
    "# .wav 파일을 스펙트로그램으로 변환하여 저장할 리스트\n",
    "spectrograms = []\n",
    "labels = []\n",
    "\n",
    "# 모든 .wav 파일을 순회하며 스펙트로그램으로 변환\n",
    "for file in file_list:\n",
    "    # 오디오 파일 읽기\n",
    "    y, sr = librosa.load(os.path.join(folder_path, file))\n",
    "\n",
    "    # 오디오 파일을 스펙트로그램으로 변환\n",
    "    spectrogram = np.abs(librosa.feature.melspectrogram(y, sr=sr, n_mels=128))\n",
    "\n",
    "    # 리스트에 추가\n",
    "    spectrograms.append(spectrogram)\n",
    "\n",
    "    # 레이블 추가 (여기서는 모든 파일을 같은 레이블로 가정)\n",
    "    labels.append(0)\n",
    "\n",
    "# numpy 배열로 변환\n",
    "X_train = np.array(spectrograms)\n",
    "y_train = np.array(labels)"
   ]
  }
 ],
 "metadata": {
  "language_info": {
   "name": "python"
  }
 },
 "nbformat": 4,
 "nbformat_minor": 2
}
