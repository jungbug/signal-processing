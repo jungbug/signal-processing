{
 "cells": [
  {
   "cell_type": "code",
   "execution_count": 46,
   "metadata": {},
   "outputs": [
    {
     "name": "stdout",
     "output_type": "stream",
     "text": [
      "특정 주파수 감지됨!\n",
      "특정 주파수 감지됨!\n",
      "특정 주파수 감지됨!\n",
      "특정 주파수 감지됨!\n",
      "특정 주파수 감지됨!\n",
      "특정 주파수 감지됨!\n",
      "특정 주파수 감지됨!\n",
      "특정 주파수 감지됨!\n",
      "특정 주파수 감지됨!\n",
      "특정 주파수 감지됨!\n",
      "특정 주파수 감지됨!\n",
      "특정 주파수 감지됨!\n",
      "특정 주파수 감지됨!\n",
      "특정 주파수 감지됨!\n",
      "특정 주파수 감지됨!\n",
      "특정 주파수 감지됨!\n",
      "특정 주파수 감지됨!\n",
      "특정 주파수 감지됨!\n",
      "특정 주파수 감지됨!\n",
      "특정 주파수 감지됨!\n",
      "특정 주파수 감지됨!\n",
      "특정 주파수 감지됨!\n",
      "특정 주파수 감지됨!\n",
      "특정 주파수 감지됨!\n",
      "특정 주파수 감지됨!\n",
      "특정 주파수 감지됨!\n",
      "특정 주파수 감지됨!\n"
     ]
    },
    {
     "ename": "KeyboardInterrupt",
     "evalue": "",
     "output_type": "error",
     "traceback": [
      "\u001b[0;31m---------------------------------------------------------------------------\u001b[0m",
      "\u001b[0;31mKeyboardInterrupt\u001b[0m                         Traceback (most recent call last)",
      "Cell \u001b[0;32mIn[46], line 25\u001b[0m\n\u001b[1;32m     22\u001b[0m stream \u001b[38;5;241m=\u001b[39m sd\u001b[38;5;241m.\u001b[39mInputStream(callback\u001b[38;5;241m=\u001b[39mcallback, channels\u001b[38;5;241m=\u001b[39m\u001b[38;5;241m1\u001b[39m, samplerate\u001b[38;5;241m=\u001b[39mfs)\n\u001b[1;32m     24\u001b[0m \u001b[38;5;28;01mwith\u001b[39;00m stream:\n\u001b[0;32m---> 25\u001b[0m     \u001b[38;5;28;01mwhile\u001b[39;00m \u001b[38;5;28;01mTrue\u001b[39;00m:\n\u001b[1;32m     26\u001b[0m         \u001b[38;5;28;01mpass\u001b[39;00m\n",
      "\u001b[0;31mKeyboardInterrupt\u001b[0m: "
     ]
    }
   ],
   "source": [
    "import sounddevice as sd\n",
    "import numpy as np\n",
    "import librosa\n",
    "import scipy.signal\n",
    "import matplotlib.pyplot as plt\n",
    "\n",
    "fs = 44100 \n",
    "target_frequency = 1000.0 \n",
    "\n",
    "def callback(indata, frames, time, status):\n",
    "    f, t, Zxx = scipy.signal.stft(indata[:, 0], fs, nperseg=1024)\n",
    "    \n",
    "    max_freq = f[np.argmax(np.abs(Zxx))]\n",
    "\n",
    "    if np.abs(max_freq - target_frequency) < 50.0:\n",
    "        print('특정 주파수 감지됨!')\n",
    "    \n",
    "    # MFCC 추출\n",
    "    mfccs = librosa.feature.mfcc(y=indata[:, 0], sr=fs)\n",
    "    # print(mfccs.shape)\n",
    "\n",
    "stream = sd.InputStream(callback=callback, channels=1, samplerate=fs)\n",
    "\n",
    "with stream:\n",
    "    while True:\n",
    "        pass\n"
   ]
  },
  {
   "cell_type": "code",
   "execution_count": 44,
   "metadata": {},
   "outputs": [
    {
     "name": "stdout",
     "output_type": "stream",
     "text": [
      "특정 주파수 감지됨!\n"
     ]
    }
   ],
   "source": [
    "import numpy as np\n",
    "import librosa\n",
    "import scipy.signal\n",
    "import matplotlib.pyplot as plt\n",
    "\n",
    "filename = './output.wav'\n",
    "y, sr = librosa.load(filename, sr=None)\n",
    "\n",
    "f, t, Zxx = scipy.signal.stft(y, sr, nperseg=1024)\n",
    "\n",
    "max_times = t[np.argmax(np.abs(Zxx), axis=1)]\n",
    "\n",
    "target_frequency = 1000.0 \n",
    "if np.any(np.abs(f - target_frequency) < 10): \n",
    "    print('특정 주파수 감지됨!')\n",
    "else:\n",
    "    print('특정 주파수 없음.')\n"
   ]
  }
 ],
 "metadata": {
  "kernelspec": {
   "display_name": "signal_processing",
   "language": "python",
   "name": "python3"
  },
  "language_info": {
   "codemirror_mode": {
    "name": "ipython",
    "version": 3
   },
   "file_extension": ".py",
   "mimetype": "text/x-python",
   "name": "python",
   "nbconvert_exporter": "python",
   "pygments_lexer": "ipython3",
   "version": "3.10.13"
  }
 },
 "nbformat": 4,
 "nbformat_minor": 2
}
