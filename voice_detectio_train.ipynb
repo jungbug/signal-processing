{
 "cells": [
  {
   "cell_type": "code",
   "execution_count": 3,
   "metadata": {},
   "outputs": [
    {
     "name": "stdout",
     "output_type": "stream",
     "text": [
      "0\n",
      "1\n",
      "(10000, 201, 301, 1)\n",
      "(10000,)\n"
     ]
    }
   ],
   "source": [
    "import os\n",
    "import librosa\n",
    "import numpy as np\n",
    "from scipy.ndimage import zoom\n",
    "import tqdm\n",
    "from sklearn.decomposition import PCA\n",
    "\n",
    "# .wav 파일이 저장된 폴더\n",
    "folder_path = './dataset/'\n",
    "\n",
    "# .wav 파일을 스펙트로그램으로 변환하여 저장할 리스트\n",
    "spectrograms = []\n",
    "labels = []\n",
    "\n",
    "# '0'과 '1' 폴더를 순회\n",
    "for label in ['0', '1']:\n",
    "    label_folder_path = os.path.join(folder_path, label)\n",
    "    print(label)\n",
    "\n",
    "    # folder_path 내의 모든 파일을 순회\n",
    "    for file_name in os.listdir(label_folder_path):\n",
    "        # .wav 파일만 처리\n",
    "        if file_name.endswith('.wav'):\n",
    "            # 오디오 파일 읽기\n",
    "            y, sr = librosa.load(os.path.join(label_folder_path, file_name), sr=16000)\n",
    "\n",
    "            hop_length = int(sr * 0.010)  # 프레임 크기 (여기서는 10ms)\n",
    "            n_fft = int(sr * 0.025)  # FFT 크기 (여기서는 25ms)\n",
    "            spectrogram = np.abs(librosa.stft(y, hop_length=hop_length, n_fft=n_fft))\n",
    "\n",
    "            # # 오디오 파일을 스펙트로그램으로 변환\n",
    "            # D = librosa.stft(y)\n",
    "            # spectrogram = librosa.amplitude_to_db(np.abs(D), ref=np.max)\n",
    "\n",
    "            # 리스트에 스펙트로그램 추가\n",
    "            spectrograms.append(spectrogram)\n",
    "\n",
    "            # 레이블 추가\n",
    "            labels.append(int(label))\n",
    "\n",
    "# numpy 배열로 변환\n",
    "X_train = np.array(spectrograms)\n",
    "y_train = np.array(labels)\n",
    "\n",
    "X_train = np.expand_dims(X_train, -1)\n",
    "\n",
    "\n",
    "\n",
    "print(X_train.shape)\n",
    "print(y_train.shape)\n",
    "\n"
   ]
  },
  {
   "cell_type": "code",
   "execution_count": 1,
   "metadata": {},
   "outputs": [
    {
     "name": "stdout",
     "output_type": "stream",
     "text": [
      "(201, 301)\n"
     ]
    }
   ],
   "source": [
    "# import librosa\n",
    "# import numpy as np\n",
    "\n",
    "# # 음성 데이터 로드\n",
    "# audio_path = './output.wav'\n",
    "# audio, sr = librosa.load(audio_path, sr=16000)  # 원하는 샘플링 레이트로 설정 (여기서는 16kHz)\n",
    "\n",
    "# # 음성 데이터를 스펙트로그램으로 변환\n",
    "# hop_length = int(sr * 0.010)  # 프레임 크기 (여기서는 10ms)\n",
    "# n_fft = int(sr * 0.025)  # FFT 크기 (여기서는 25ms)\n",
    "# spectrogram = np.abs(librosa.stft(audio, hop_length=hop_length, n_fft=n_fft))\n",
    "\n",
    "# # 변환된 스펙트로그램 확인\n",
    "# print(spectrogram.shape)  # (주파수 빈도 수, 시간 프레임 수)\n"
   ]
  },
  {
   "cell_type": "code",
   "execution_count": 5,
   "metadata": {},
   "outputs": [
    {
     "name": "stdout",
     "output_type": "stream",
     "text": [
      "Epoch 1/5\n"
     ]
    },
    {
     "name": "stderr",
     "output_type": "stream",
     "text": [
      "2024-01-03 17:19:33.554952: I tensorflow/core/grappler/optimizers/custom_graph_optimizer_registry.cc:113] Plugin optimizer for device_type GPU is enabled.\n"
     ]
    },
    {
     "name": "stdout",
     "output_type": "stream",
     "text": [
      "250/250 [==============================] - ETA: 0s - loss: 0.2289 - accuracy: 0.9201"
     ]
    },
    {
     "name": "stderr",
     "output_type": "stream",
     "text": [
      "2024-01-03 17:19:57.324340: I tensorflow/core/grappler/optimizers/custom_graph_optimizer_registry.cc:113] Plugin optimizer for device_type GPU is enabled.\n"
     ]
    },
    {
     "name": "stdout",
     "output_type": "stream",
     "text": [
      "250/250 [==============================] - 27s 103ms/step - loss: 0.2289 - accuracy: 0.9201 - val_loss: 0.0068 - val_accuracy: 1.0000\n",
      "Epoch 2/5\n",
      "250/250 [==============================] - 25s 97ms/step - loss: 0.0025 - accuracy: 1.0000 - val_loss: 0.0015 - val_accuracy: 1.0000\n",
      "Epoch 3/5\n",
      "250/250 [==============================] - 23s 92ms/step - loss: 7.3473e-04 - accuracy: 1.0000 - val_loss: 6.4428e-04 - val_accuracy: 1.0000\n",
      "Epoch 4/5\n",
      "250/250 [==============================] - 24s 96ms/step - loss: 3.5584e-04 - accuracy: 1.0000 - val_loss: 3.0857e-04 - val_accuracy: 1.0000\n",
      "Epoch 5/5\n",
      "250/250 [==============================] - 24s 95ms/step - loss: 2.0919e-04 - accuracy: 1.0000 - val_loss: 2.1429e-04 - val_accuracy: 1.0000\n"
     ]
    }
   ],
   "source": [
    "import tensorflow as tf\n",
    "from tensorflow.keras import layers\n",
    "import numpy as np\n",
    "\n",
    "# 데이터셋 로드\n",
    "# X_train: 학습 데이터 (음성 데이터)\n",
    "# y_train: 학습 데이터에 대한 레이블 (음성에 해당하는 텍스트)\n",
    "# X_train = ...\n",
    "# y_train = ...\n",
    "\n",
    "# 데이터 전처리\n",
    "# 필요한 전처리 과정을 수행합니다.\n",
    "# (예: 오디오 데이터를 스펙트로그램으로 변환, 텍스트를 정수 시퀀스로 변환 등)\n",
    "\n",
    "# 모델 구성\n",
    "model = tf.keras.Sequential([\n",
    "    layers.Conv2D(32, kernel_size=(3, 3), activation='relu', input_shape=(201,301,1)),\n",
    "    layers.MaxPooling2D(pool_size=(2, 2)),\n",
    "    layers.Flatten(),\n",
    "    layers.Dense(64, activation='relu'),\n",
    "    layers.Dense(2, activation='softmax')\n",
    "])\n",
    "\n",
    "# 모델 컴파일\n",
    "model.compile(optimizer='adam',\n",
    "              loss='sparse_categorical_crossentropy',\n",
    "              metrics=['accuracy'])\n",
    "\n",
    "# 모델 학습\n",
    "model.fit(X_train, y_train, batch_size=32, epochs=5, validation_split=0.2)\n",
    "\n",
    "# 학습된 모델 저장\n",
    "model.save('voice_recognition_model.h5')\n"
   ]
  }
 ],
 "metadata": {
  "kernelspec": {
   "display_name": "signal_tensorflow_mac",
   "language": "python",
   "name": "python3"
  },
  "language_info": {
   "codemirror_mode": {
    "name": "ipython",
    "version": 3
   },
   "file_extension": ".py",
   "mimetype": "text/x-python",
   "name": "python",
   "nbconvert_exporter": "python",
   "pygments_lexer": "ipython3",
   "version": "3.10.13"
  }
 },
 "nbformat": 4,
 "nbformat_minor": 2
}
