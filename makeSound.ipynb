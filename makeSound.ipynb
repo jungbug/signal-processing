{
 "cells": [
  {
   "cell_type": "code",
   "execution_count": 12,
   "metadata": {},
   "outputs": [],
   "source": [
    "import numpy as np\n",
    "from scipy.io.wavfile import write\n",
    "\n",
    "def generate_sine_wave(freq, duration, sample_rate, amplitude=0.5):\n",
    "    t = np.linspace(0, duration, int(sample_rate * duration), endpoint=False)\n",
    "    y = amplitude * np.sin(2 * np.pi * freq * t)\n",
    "    return y\n",
    "\n",
    "def save_wave_file(file_path, data, sample_rate):\n",
    "    write(file_path, sample_rate, data.astype(np.int16))\n",
    "\n",
    "if __name__ == \"__main__\":\n",
    "    # 설정\n",
    "    start_frequency = 100  # 시작 주파수 (Hz)\n",
    "    end_frequency = 10000  # 끝 주파수 (Hz)\n",
    "    duration = 3          # 지속 시간 (초)\n",
    "    sample_rate = 44100    # 샘플링 속도 (Hz)\n",
    "\n",
    "    # 주파수 범위 설정\n",
    "    frequencies = np.linspace(start_frequency, end_frequency, 20)\n",
    "\n",
    "    # 주파수별로 사인파 생성 및 합치기\n",
    "    combined_wave = np.sum([generate_sine_wave(freq, duration, sample_rate) for freq in frequencies], axis=0)\n",
    "\n",
    "    # 신호 저장\n",
    "    save_wave_file(\"./test_output.wav\", combined_wave, sample_rate)\n"
   ]
  }
 ],
 "metadata": {
  "kernelspec": {
   "display_name": "Python 3",
   "language": "python",
   "name": "python3"
  },
  "language_info": {
   "codemirror_mode": {
    "name": "ipython",
    "version": 3
   },
   "file_extension": ".py",
   "mimetype": "text/x-python",
   "name": "python",
   "nbconvert_exporter": "python",
   "pygments_lexer": "ipython3",
   "version": "3.10.13"
  }
 },
 "nbformat": 4,
 "nbformat_minor": 2
}
